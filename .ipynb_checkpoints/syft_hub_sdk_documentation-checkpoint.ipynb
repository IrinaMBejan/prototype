{
 "cells": [
  {
   "cell_type": "markdown",
   "metadata": {},
   "source": [
    "# 🚀 SyftHub SDK Documentation\n",
    "\n",
    "**The Python SDK for Federated AI Services**\n",
    "\n",
    "SyftHub SDK provides a simple, intuitive interface for discovering, using, and creating federated AI services.\n",
    "\n",
    "---\n",
    "\n",
    "## 📦 Installation\n",
    "\n",
    "```bash\n",
    "pip install syft-hub\n",
    "```\n",
    "\n",
    "## 🎯 Quick Start\n",
    "\n",
    "```python\n",
    "import syfthub as sh\n",
    "\n",
    "# Discover services\n",
    "services = sh.discover(domain=\"legal\", type=\"rag\")\n",
    "\n",
    "# Use a service\n",
    "legal_analyzer = sh.load(\"lexfirm.eu/legal_document_analyzer\")\n",
    "result = legal_analyzer.query(\"What are the key points in this contract?\")\n",
    "\n",
    "# Create your own service\n",
    "my_service = sh.create_datasource(\n",
    "    name=\"my_legal_docs\",\n",
    "    data_path=\"./legal_documents/\",\n",
    "    service_type=\"rag\"\n",
    ")\n",
    "my_service.publish()\n",
    "```"
   ]
  },
  {
   "cell_type": "markdown",
   "metadata": {},
   "source": [
    "## Overview\n",
    "\n",
    "\n",
    "### Core Functions\n",
    "```python\n",
    "sh.login(email)                    # Authenticate with SyftBox\n",
    "sh.discover/sh.register_wallet_manager(email, password) # Auth with Accounting Service?\n",
    "sh.discover(**filters)             # Find services\n",
    "sh.search(query)                   # Natural language search\n",
    "sh.load(service_name, config)      # Load service\n",
    "sh.create_datasource(**params)     # Create data service\n",
    "sh.create_synthesizer(**params)    # Create AI synthesizer\n",
    "```\n",
    "\n",
    "### Service Methods\n",
    "```python\n",
    "service.chat.query(text, **params)           # Query service\n",
    "service.rag.query(text, **params)            # Query service\n",
    "service.search.query(text, **params)         # Query service\n",
    "service.chat/rag/search.batch_query(queries) # Batch processing\n",
    "service.publish(pricing, sla)      # Publish service\n",
    "service.update_config(config)      # Update settings\n",
    "```\n",
    "\n",
    "### Agent Features\n",
    "```python\n",
    "sh.create_pipeline(steps)          # Service composition\n",
    "sh.generate_MCP(pipeline)          # Service composition\n",
    "\n",
    "```\n"
   ]
  },
  {
   "cell_type": "code",
   "execution_count": null,
   "metadata": {},
   "outputs": [],
   "source": [
    "# Installation cell - run this first\n",
    "!pip install syft-hub"
   ]
  },
  {
   "cell_type": "markdown",
   "metadata": {},
   "source": [
    "---\n",
    "\n",
    "## 🔍 Service Discovery\n",
    "\n",
    "Discover federated AI services across domains with simple, intuitive methods."
   ]
  },
  {
   "cell_type": "code",
   "execution_count": null,
   "metadata": {},
   "outputs": [],
   "source": [
    "import syfthub as sh\n",
    "\n",
    "# Authenticate (only needed once per session)\n",
    "sh.login(email=\"researcher@university.edu\")\n",
    "# INSERT OTP\n",
    "\n",
    "# Add wallet manager\n",
    "sh.register_wallet_manager(email,password)\n",
    "\n",
    "# Discover all available services\n",
    "all_services = sh.discover()\n",
    "print(f\"Found {len(all_services)} services\")\n",
    "\n",
    "# Filter by domain\n",
    "legal_services = sh.discover(domain=\"legal\")\n",
    "medical_services = sh.discover(domain=\"healthcare\")\n",
    "research_services = sh.discover(domain=\"research\")\n",
    "en_services = sh.discover(language=\"en\")"
   ]
  },
  {
   "cell_type": "code",
   "execution_count": null,
   "metadata": {},
   "outputs": [],
   "source": [
    "# Advanced filtering with multiple criteria\n",
    "services = sh.discover(\n",
    "    domain=[\"legal\", \"healthcare\"],  # Multiple domains\n",
    "    service_type=\"rag\",              # RAG services only\n",
    "    status=\"running\",                # Only active services\n",
    "    # provider=\"lexfirm.eu\",           # Specific provider\n",
    ")\n",
    "\n",
    "# Display service information\n",
    "for service in services[:3]:  # Show first 3\n",
    "    print(f\"📋 {service.name}\")\n",
    "    print(f\"   Provider: {service.provider}\")\n",
    "    print(f\"   Description: {service.description[:100]}...\")\n",
    "    print(f\"   Tags: {', '.join(service.tags)}\")\n",
    "    print()"
   ]
  },
  {
   "cell_type": "code",
   "execution_count": null,
   "metadata": {},
   "outputs": [],
   "source": [
    "# Search with natural language\n",
    "services = sh.search(\"legal document analysis with privacy protection\")\n",
    "\n",
    "# Get service details\n",
    "service = services[0]\n",
    "print(f\"🔍 Service Details for {service.name}\")\n",
    "print(f\"Provider: {service.provider}\")\n",
    "print(f\"Cost per Query: ${service.cost_per_query}\")\n",
    "print(f\"Supported Languages: {service.languages}\")"
   ]
  },
  {
   "cell_type": "markdown",
   "metadata": {},
   "source": [
    "---\n",
    "\n",
    "## 🛠️ Using Services\n",
    "\n",
    "Load and use federated services with minimal code."
   ]
  },
  {
   "cell_type": "code",
   "execution_count": null,
   "metadata": {},
   "outputs": [],
   "source": [
    "# Load a service\n",
    "legal_analyzer = sh.load(\"lexfirm.eu/legal_document_analyzer\")\n",
    "\n",
    "# Basic usage\n",
    "query = \"What are the key termination clauses in employment contracts?\"\n",
    "result = legal_analyzer.rag.query(query)\n",
    "\n",
    "print(f\"Query: {query}\")\n",
    "print(f\"Answer: {result.answer}\")\n",
    "print(f\"Confidence: {result.confidence:.2f}\")\n",
    "print(f\"Sources: {len(result.sources)} documents referenced\")"
   ]
  },
  {
   "cell_type": "code",
   "execution_count": null,
   "metadata": {},
   "outputs": [],
   "source": [
    "# Advanced usage with configuration\n",
    "legal_analyzer = sh.load(\n",
    "    \"lexfirm.eu/legal_document_analyzer\",\n",
    "    config={\n",
    "        \"temperature\": 0.3,        # Lower temperature for more focused answers\n",
    "        \"max_tokens\": 500,         # Longer responses\n",
    "        \"top_k\": 10,               # More source documents\n",
    "        \"privacy_mode\": \"strict\",  # Enhanced privacy\n",
    "        \"language\": \"en\"           # English responses\n",
    "    }\n",
    ")\n",
    "\n",
    "# Query with additional parameters\n",
    "result = legal_analyzer.query(\n",
    "    \"Analyze this contract for potential risks\",\n",
    "    document=\"path/to/contract.pdf\",\n",
    "    focus_areas=[\"liability\", \"termination\", \"intellectual_property\"],\n",
    "    return_citations=True\n",
    ")\n",
    "\n",
    "print(f\"Risk Analysis: {result.answer}\")\n",
    "print(f\"\\nCitations:\")\n",
    "for citation in result.citations:\n",
    "    print(f\"  📄 {citation.document} (page {citation.page})\")\n",
    "    print(f\"      \\\"{citation.excerpt}\\\"\")"
   ]
  },
  {
   "cell_type": "code",
   "execution_count": null,
   "metadata": {},
   "outputs": [],
   "source": [
    "# Batch processing\n",
    "queries = [\n",
    "    \"What is the notice period for termination?\",\n",
    "    \"Are there any non-compete clauses?\",\n",
    "    \"What are the intellectual property terms?\"\n",
    "]\n",
    "\n",
    "# Process multiple queries efficiently\n",
    "results = legal_analyzer.batch_query(queries, batch_size=3)\n",
    "\n",
    "for query, result in zip(queries, results):\n",
    "    print(f\"Q: {query}\")\n",
    "    print(f\"A: {result.answer}\")\n",
    "    print(f\"⚡ Response time: {result.response_time}ms\\n\")"
   ]
  },
  {
   "cell_type": "code",
   "execution_count": null,
   "metadata": {},
   "outputs": [],
   "source": [
    "# Using multiple services together (Composition)\n",
    "legal_rag = sh.load(\"lexfirm.eu/legal_document_analyzer\")\n",
    "medical_rag = sh.load(\"mayo.edu/medical_literature_search\")\n",
    "ai_synthesizer = sh.load(\"openai.com/gpt-4-turbo\")\n",
    "\n",
    "# Cross-domain analysis\n",
    "legal_answer = legal_rag.query(\"Medical malpractice liability standards\")\n",
    "medical_answer = medical_rag.query(\"Standard of care in emergency medicine\")\n",
    "\n",
    "# Synthesize insights\n",
    "synthesis = ai_synthesizer.synthesize([legal_answer, medical_answer])\n",
    "], messages=\"Provide a comprehensive analysis of medical malpractice standards\")\n",
    "\n",
    "print(f\"🔬 Cross-Domain Analysis:\")\n",
    "print(synthesis.result)"
   ]
  },
  {
   "cell_type": "markdown",
   "metadata": {},
   "source": [
    "---\n",
    "\n",
    "## 🏗️ Creating Data Sources\n",
    "\n",
    "Turn your data into federated AI services with simple, declarative APIs."
   ]
  },
  {
   "cell_type": "code",
   "execution_count": null,
   "metadata": {},
   "outputs": [],
   "source": [
    "# Create a RAG service from local documents\n",
    "my_legal_service = sh.create_datasource(\n",
    "    name=\"my_legal_knowledge_base\",\n",
    "    description=\"Comprehensive legal document analysis with privacy protection\",\n",
    "    data_path=\"./legal_documents/\",\n",
    "    service_type=\"rag\",\n",
    "    \n",
    "    # Configuration\n",
    "    config={\n",
    "        \"model\": \"llama3.2:7b\",        # Local Ollama model\n",
    "        \"embedding_model\": \"all-MiniLM-L6-v2\",\n",
    "        \"top_k\": 5,\n",
    "        \"temperature\": 0.7\n",
    "    },\n",
    "    \n",
    "    # Privacy and access controls\n",
    "    privacy_filters=[\n",
    "        \"Remove any person's name\",\n",
    "        \"Mask any phone number or PII information\",\n",
    "    ],\n",
    "    \n",
    "    # Tags for discoverability\n",
    "    tags=[\"domain:legal\", \"language:english\"],\n",
    ")\n",
    "\n",
    "print(f\"✅ Created service: {my_legal_service.name}\")\n",
    "print(f\"📂 Indexed {my_legal_service.document_count} documents\")\n",
    "print(f\"🔍 Generated {my_legal_service.embedding_count} embeddings\")"
   ]
  },
  {
   "cell_type": "code",
   "execution_count": null,
   "metadata": {},
   "outputs": [],
   "source": [
    "# Add access controls\n",
    "my_legal_service.add_users([\n",
    "    {\"email\": \"partner@lawfirm.com\", \"role\": \"query\"},\n",
    "    {\"email\": \"associate@lawfirm.com\", \"role\": \"query\"},\n",
    "    {\"email\": \"client@company.com\", \"role\": \"request-query\"}\n",
    "])\n",
    "\n",
    "# Configure file-level permissions\n",
    "my_legal_service.set_path_permissions({\n",
    "    \"/confidential/\": [\"partner@lawfirm.com\"],\n",
    "    \"/public_guidelines/\": \"everyone\",\n",
    "    \"/client_contracts/\": [\"partner@lawfirm.com\", \"associate@lawfirm.com\"]\n",
    "})\n",
    "\n",
    "# Test the service locally before publishing\n",
    "test_result = my_legal_service.test_query(\n",
    "    \"What are the key components of a non-disclosure agreement?\"\n",
    ")\n",
    "\n",
    "print(f\"Test Query Result: {test_result.answer[:200]}...\")\n",
    "print(f\"Privacy Check: {'✅ Passed' if test_result.privacy_check else '❌ Failed'}\")"
   ]
  },
  {
   "cell_type": "code",
   "execution_count": null,
   "metadata": {},
   "outputs": [],
   "source": [
    "# Create a search-only service (faster, no AI synthesis)\n",
    "document_search = sh.create_datasource(\n",
    "    name=\"legal_document_search\",\n",
    "    data_path=\"./legal_documents/\",\n",
    "    service_type=\"search\",  # Direct search without LLM\n",
    "    \n",
    "    config={\n",
    "        \"search_engine\": \"elasticsearch\",\n",
    "        \"max_results\": 20,\n",
    "        \"include_snippets\": True,\n",
    "        \"fuzzy_matching\": True\n",
    "    }\n",
    ")\n",
    "\n",
    "# Test search functionality\n",
    "search_results = document_search.search(\"employment termination notice\")\n",
    "print(f\"Found {len(search_results)} relevant documents:\")\n",
    "\n",
    "for result in search_results[:3]:\n",
    "    print(f\"📄 {result.filename} (score: {result.relevance_score:.2f})\")\n",
    "    print(f\"    {result.snippet}\")"
   ]
  },
  {
   "cell_type": "markdown",
   "metadata": {},
   "source": [
    "---\n",
    "\n",
    "## 🧠 Creating AI Synthesizers\n",
    "\n",
    "Create AI models that combine federated inputs with your own logic."
   ]
  },
  {
   "cell_type": "code",
   "execution_count": null,
   "metadata": {},
   "outputs": [],
   "source": [
    "..."
   ]
  },
  {
   "cell_type": "code",
   "execution_count": null,
   "metadata": {},
   "outputs": [],
   "source": [
    "..."
   ]
  },
  {
   "cell_type": "markdown",
   "metadata": {},
   "source": [
    "---\n",
    "\n",
    "## 📢 Publishing and Management\n",
    "\n",
    "Make your services discoverable and manage their lifecycle."
   ]
  },
  {
   "cell_type": "code",
   "execution_count": null,
   "metadata": {},
   "outputs": [],
   "source": [
    "# Publish services to the federated network\n",
    "my_legal_service.publish(\n",
    "    pricing={\n",
    "        \"model\": \"pay_per_query\",\n",
    "        \"price_per_query\": 0.10,  # $0.10 per query\n",
    "        \"monthly_subscription\": 50.00,  # Or $50/month unlimited\n",
    "        \"free_tier\": 100  # 100 free queries per month\n",
    "    },\n",
    "    \n",
    "    sla={\n",
    "        \"uptime\": 99.5,  # 99.5% uptime guarantee\n",
    "        \"max_response_time\": 5000,  # 5 second max response time\n",
    "        \"rate_limit\": 1000  # 1000 queries per hour\n",
    "    },\n",
    "    \n",
    "    visibility=\"public\",  # or \"private\", \"collective\"\n",
    "    \n",
    "    # Collective membership (optional)\n",
    "    collective=\"legal_ai_collective\"\n",
    ")\n",
    "\n",
    "print(f\"🌐 Published {my_legal_service.name} to federated network\")\n",
    "print(f\"🔗 Service URL: {my_legal_service.public_url}\")\n",
    "print(f\"📈 Estimated monthly revenue: ${my_legal_service.estimated_revenue}\")"
   ]
  },
  {
   "cell_type": "markdown",
   "metadata": {},
   "source": [
    "---\n",
    "\n",
    "## 🤝 Collective Operations\n",
    "\n",
    "Join collectives for shared governance, resources, and enhanced collaboration."
   ]
  },
  {
   "cell_type": "code",
   "execution_count": null,
   "metadata": {},
   "outputs": [],
   "source": [
    "..."
   ]
  },
  {
   "cell_type": "markdown",
   "metadata": {},
   "source": [
    "---\n",
    "\n",
    "## 🔧 Advanced Usage Patterns\n",
    "\n",
    "Sophisticated patterns for power users and enterprise deployments."
   ]
  },
  {
   "cell_type": "code",
   "execution_count": null,
   "metadata": {},
   "outputs": [],
   "source": [
    "# Create a service composition pipeline\n",
    "pipeline = sh.create_pipeline(\n",
    "    name=\"legal_research_pipeline\",\n",
    "    steps=[\n",
    "        {\n",
    "            \"name\": \"document_extraction\",\n",
    "            \"service\": \"my_legal_knowledge_base\",\n",
    "            \"operation\": \"search\",\n",
    "            \"params\": {\"top_k\": 10}\n",
    "        },\n",
    "        {\n",
    "            \"name\": \"case_law_lookup\",\n",
    "            \"service\": \"harvard.edu/supreme_court_decisions\",\n",
    "            \"operation\": \"query\",\n",
    "            \"depends_on\": \"document_extraction\"\n",
    "        },\n",
    "        {\n",
    "            \"name\": \"synthesis\",\n",
    "            \"service\": \"comprehensive_legal_advisor\",\n",
    "            \"operation\": \"synthesize\",\n",
    "            \"depends_on\": [\"document_extraction\", \"case_law_lookup\"]\n",
    "        }\n",
    "    ]\n",
    ")\n",
    "\n",
    "# Execute the pipeline\n",
    "pipeline_result = pipeline.execute(\n",
    "    input_query=\"Employment contract termination procedures\",\n",
    "    async_mode=True  # Run steps in parallel when possible\n",
    ")\n",
    "\n",
    "print(f\"🔄 Pipeline Status: {pipeline_result.status}\")\n",
    "print(f\"⏱️ Total Execution Time: {pipeline_result.execution_time}s\")\n",
    "print(f\"💰 Total Cost: ${pipeline_result.total_cost:.2f}\")\n",
    "print(f\"📊 Final Result: {pipeline_result.final_output[:300]}...\")"
   ]
  }
 ],
 "metadata": {
  "kernelspec": {
   "display_name": "Python 3 (ipykernel)",
   "language": "python",
   "name": "python3"
  },
  "language_info": {
   "codemirror_mode": {
    "name": "ipython",
    "version": 3
   },
   "file_extension": ".py",
   "mimetype": "text/x-python",
   "name": "python",
   "nbconvert_exporter": "python",
   "pygments_lexer": "ipython3",
   "version": "3.12.10"
  }
 },
 "nbformat": 4,
 "nbformat_minor": 4
}
