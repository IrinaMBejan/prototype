{
 "cells": [
  {
   "cell_type": "markdown",
   "metadata": {},
   "source": [
    "# 🚀 SyftHub SDK Documentation\n",
    "\n",
    "**The Python SDK for Federated AI Services**\n",
    "\n",
    "SyftHub SDK provides a simple, intuitive interface for discovering, using, and creating federated AI services.\n",
    "\n",
    "---\n",
    "\n",
    "## 📦 Installation\n",
    "\n",
    "```bash\n",
    "pip install syft-hub\n",
    "```\n",
    "\n",
    "## 🎯 Quick Start\n",
    "\n",
    "```python\n",
    "import syfthub as sh\n",
    "\n",
    "# Discover services\n",
    "services = sh.discover(domain=\"legal\", type=\"rag\")\n",
    "\n",
    "# Use a service\n",
    "legal_analyzer = sh.load(\"lexfirm.eu/legal_document_analyzer\")\n",
    "result = legal_analyzer.chat(messages=[{\"role\": \"user\", \"content\": \"What are the key points?\"}], temperature=0.7)\n",
    "\n",
    "# Create your own service\n",
    "my_service = sh.create_datasource(\n",
    "    name=\"my_legal_docs\",\n",
    "    data_path=\"./legal_documents/\",\n",
    "    service_type=\"rag\"\n",
    ")\n",
    "my_service.publish()\n",
    "```"
   ]
  },
  {
   "cell_type": "markdown",
   "metadata": {},
   "source": [
    "## Overview\n",
    "\n",
    "\n",
    "### Core Functions\n",
    "```python\n",
    "sh.login(email)                    # Authenticate with SyftBox\n",
    "sh.discover/sh.register_wallet_manager(email, password) # Auth with Accounting Service?\n",
    "sh.discover(**filters)             # Find services\n",
    "sh.search(query)                   # Natural language search\n",
    "sh.load(service_name, config)      # Load service\n",
    "sh.create_datasource(**params)     # Create data service\n",
    "sh.create_synthesizer(**params)    # Create AI synthesizer\n",
    "```\n",
    "\n",
    "### Service Methods\n",
    "```python\n",
    "service.chat(text, **params)           # Query service\n",
    "service.rag(text, **params)            # Query service\n",
    "service.search(text, **params)         # Query service\n",
    "service.publish(pricing, sla)      # Publish service\n",
    "service.update_config(config)      # Update settings\n",
    "```\n",
    "\n",
    "### Agent Features\n",
    "```python\n",
    "sh.create_pipeline(steps)          # Service composition\n",
    "sh.generate_MCP(pipeline)          # Service composition\n",
    "\n",
    "```\n"
   ]
  },
  {
   "cell_type": "code",
   "execution_count": null,
   "metadata": {},
   "outputs": [],
   "source": [
    "# Installation cell - run this first\n",
    "!pip install syft-hub\n",
    "!pip install syft-installer -U"
   ]
  },
  {
   "cell_type": "code",
   "execution_count": null,
   "metadata": {},
   "outputs": [],
   "source": [
    "import syft_installer as si\n",
    "si.install_and_run_if_needed()\n",
    "# INSERT OTP\n",
    "\n",
    "import syfthub as sh\n",
    "# Add wallet manager\n",
    "sh.register_wallet_manager(email,password) # not sure of all these, depends on the payments system used."
   ]
  },
  {
   "cell_type": "markdown",
   "metadata": {},
   "source": [
    "---\n",
    "\n",
    "## 🔍 Service Discovery\n",
    "\n",
    "Discover federated AI services across domains with simple, intuitive methods."
   ]
  },
  {
   "cell_type": "code",
   "execution_count": null,
   "metadata": {},
   "outputs": [],
   "source": [
    "# Discover all available services\n",
    "all_services = sh.discover()\n",
    "print(f\"Found {len(all_services)} services\")\n",
    "\n",
    "# Filter by domain\n",
    "legal_services = sh.discover(domain=\"legal\")\n",
    "en_services = sh.discover(language=\"en\")"
   ]
  },
  {
   "cell_type": "code",
   "execution_count": null,
   "metadata": {},
   "outputs": [],
   "source": [
    "# Advanced filtering with multiple criteria\n",
    "services = sh.discover(\n",
    "    domain=[\"legal\", \"healthcare\"],  # Multiple domains\n",
    "    service_type=\"rag\",              # RAG services only\n",
    "    status=\"running\",                # Only active services\n",
    "    # provider=\"lexfirm.eu\",           # Specific provider\n",
    ")"
   ]
  },
  {
   "cell_type": "code",
   "execution_count": null,
   "metadata": {},
   "outputs": [],
   "source": [
    "# Search with natural language\n",
    "services = sh.search(\"legal document analysis with privacy protection\")\n",
    "\n",
    "# Get service details\n",
    "service = services[0]\n",
    "print(f\"🔍 Service Details for {service.name}\")\n",
    "print(f\"Provider: {service.provider}\")\n",
    "print(f\"Cost per Query: ${service.cost_per_query}\")\n",
    "print(f\"Supported Languages: {service.languages}\")"
   ]
  },
  {
   "cell_type": "markdown",
   "metadata": {},
   "source": [
    "---\n",
    "\n",
    "## 🛠️ Using Services\n",
    "\n",
    "Load and use federated services with minimal code."
   ]
  },
  {
   "cell_type": "code",
   "execution_count": null,
   "metadata": {},
   "outputs": [],
   "source": [
    "# Load a service\n",
    "legal_analyzer = sh.load(\"lexfirm.eu/legal_document_analyzer\")\n",
    "\n",
    "# Basic usage\n",
    "query = \"What are the key termination clauses in employment contracts?\"\n",
    "result = legal_analyzer.rag(messages=[{\"role\": \"user\", \"content\": query}], temperature=0.7) \n",
    "\n",
    "\n",
    "print(f\"Query: {query}\")\n",
    "print(f\"Answer: {result.answer}\")\n",
    "print(f\"Sources: {len(result.sources)} documents referenced\")"
   ]
  },
  {
   "cell_type": "code",
   "execution_count": null,
   "metadata": {},
   "outputs": [],
   "source": [
    "# Using multiple services together (Composition)\n",
    "legal_rag = sh.load(\"lexfirm.eu/legal_document_analyzer\")\n",
    "medical_rag = sh.load(\"mayo.edu/medical_literature_search\")\n",
    "ai_synthesizer = sh.load(\"openai.com/gpt-4-turbo\")\n",
    "\n",
    "legal_answer = legal_rag.rag(messages=[{\"role\": \"user\", \"content\": query}]) \n",
    "medical_answer = medical_rag.rag(messages=[{\"role\": \"user\", \"content\": query}])\n",
    "\n",
    "# Synthesize insights\n",
    "synthesis = ai_synthesizer.synthesize([legal_answer, medical_answer], \n",
    "                                      messages=\"Provide a comprehensive analysis of medical malpractice standards\")\n",
    "\n",
    "print(synthesis.result)"
   ]
  },
  {
   "cell_type": "markdown",
   "metadata": {},
   "source": [
    "---\n",
    "\n",
    "## 🏗️ Creating Data Sources\n",
    "\n",
    "Turn your data into federated AI services with simple, declarative APIs."
   ]
  },
  {
   "cell_type": "code",
   "execution_count": null,
   "metadata": {},
   "outputs": [],
   "source": [
    "# Create a RAG service from local documents\n",
    "my_legal_service = sh.create_datasource(\n",
    "    name=\"my_legal_knowledge_base\",\n",
    "    description=\"Comprehensive legal document analysis with privacy protection\",\n",
    "    data_path=\"./legal_documents/\",\n",
    "    service_type=\"rag\",\n",
    "    \n",
    "    # Configuration\n",
    "    config={\n",
    "        \"model\": \"llama3.2:7b\",        # Local Ollama model\n",
    "        \"embedding_model\": \"all-MiniLM-L6-v2\",\n",
    "        \"top_k\": 5,\n",
    "        \"temperature\": 0.7\n",
    "    },\n",
    "    \n",
    "    # Privacy and access controls\n",
    "    privacy_filters=[\n",
    "        \"Remove any person's name\",\n",
    "        \"Mask any phone number or PII information\",\n",
    "    ],\n",
    "    \n",
    "    # Tags for discoverability\n",
    "    tags=[\"domain:legal\", \"language:english\"],\n",
    "    price_query=\"..\" ?\n",
    ")"
   ]
  },
  {
   "cell_type": "code",
   "execution_count": null,
   "metadata": {},
   "outputs": [],
   "source": [
    "# Create a search-only service (faster, no AI synthesis)\n",
    "document_search = sh.create_datasource(\n",
    "    name=\"legal_document_search\",\n",
    "    data_path=\"./legal_documents/\",\n",
    "    service_type=\"search\",  # Direct search without LLM\n",
    ")\n",
    "\n",
    "# Test search functionality\n",
    "search_results = document_search.search(\"employment termination notice\")\n",
    "print(f\"Found {len(search_results)} relevant documents:\")\n",
    "\n",
    "for result in search_results[:3]:\n",
    "    print(f\"📄 {result.filename} (score: {result.relevance_score:.2f})\")\n",
    "    print(f\"    {result.snippet}\")"
   ]
  },
  {
   "cell_type": "markdown",
   "metadata": {},
   "source": [
    "---\n",
    "\n",
    "## 🧠 Creating AI Synthesizers\n",
    "\n",
    "Create AI models that combine federated inputs with your own logic."
   ]
  },
  {
   "cell_type": "code",
   "execution_count": null,
   "metadata": {},
   "outputs": [],
   "source": [
    "..."
   ]
  },
  {
   "cell_type": "markdown",
   "metadata": {},
   "source": [
    "---\n",
    "\n",
    "## 📢 Publishing and Management\n",
    "\n",
    "Make your services discoverable and manage their lifecycle."
   ]
  },
  {
   "cell_type": "code",
   "execution_count": null,
   "metadata": {},
   "outputs": [],
   "source": [
    "# Publish services to the federated network\n",
    "my_legal_service.publish()\n",
    "\n",
    "print(f\"🌐 Published {my_legal_service.name} to federated network\")"
   ]
  },
  {
   "cell_type": "markdown",
   "metadata": {},
   "source": [
    "---\n",
    "\n",
    "## 🔧 Advanced Usage Patterns\n",
    "\n",
    "Sophisticated patterns for power users and enterprise deployments."
   ]
  },
  {
   "cell_type": "code",
   "execution_count": null,
   "metadata": {},
   "outputs": [],
   "source": [
    "# Create a service composition pipeline\n",
    "pipeline = sh.create_agent(\n",
    "    name=\"legal_research_pipeline\",\n",
    "    data_sources=[\n",
    "        {\n",
    "            \"source\": \"a@lexfirm.eu/legal_document_analyzer\"\n",
    "            \"operation\": \"search\",\n",
    "            \"params\": {\"top_k\": 10}\n",
    "        },\n",
    "        {\n",
    "            \"source\": \"a@lexfirm.eu/legal_document_analyzer\"\n",
    "            \"operation\": \"search\",\n",
    "            \"params\": {\"top_k\": 10}\n",
    "        },\n",
    "        {\n",
    "            \"name\": \"ana@gmail.com/gpt4\",\n",
    "            \"operation\": \"chat\",\n",
    "        }\n",
    "    ],\n",
    "    prompt=\"Provide a comprehensive analysis of medical malpractice standards\"\n",
    ")\n",
    "\n",
    "# Execute the pipeline\n",
    "pipeline_result = pipeline.execute(\n",
    "    messages=[{\"role\": \"user\", \"content\": query}]\n",
    "    async_mode=True  # Run steps in parallel when possible\n",
    ")\n",
    "\n",
    "print(f\"🔄 Pipeline Status: {pipeline_result.status}\")\n",
    "print(f\"📊 Final Result: {pipeline_result.final_output[:300]}...\")"
   ]
  }
 ],
 "metadata": {
  "kernelspec": {
   "display_name": "Python 3 (ipykernel)",
   "language": "python",
   "name": "python3"
  },
  "language_info": {
   "codemirror_mode": {
    "name": "ipython",
    "version": 3
   },
   "file_extension": ".py",
   "mimetype": "text/x-python",
   "name": "python",
   "nbconvert_exporter": "python",
   "pygments_lexer": "ipython3",
   "version": "3.12.10"
  }
 },
 "nbformat": 4,
 "nbformat_minor": 4
}
